{
 "metadata": {
  "name": "MCMC_exercises_solution"
 },
 "nbformat": 3,
 "nbformat_minor": 0,
 "worksheets": [
  {
   "cells": [
    {
     "cell_type": "code",
     "collapsed": false,
     "input": [
      "%pylab \n"
     ],
     "language": "python",
     "metadata": {},
     "outputs": [
      {
       "output_type": "stream",
       "stream": "stdout",
       "text": [
        "\n",
        "Welcome to pylab, a matplotlib-based Python environment [backend: TkAgg].\n",
        "For more information, type 'help(pylab)'.\n"
       ]
      }
     ],
     "prompt_number": 1
    },
    {
     "cell_type": "markdown",
     "metadata": {},
     "source": [
      "#Ejemplo:"
     ]
    },
    {
     "cell_type": "code",
     "collapsed": false,
     "input": [
      "def function(x):\n",
      "    y = exp(-((x-30.0)**2)/100.0)\n",
      "    return y"
     ],
     "language": "python",
     "metadata": {},
     "outputs": [],
     "prompt_number": 3
    },
    {
     "cell_type": "code",
     "collapsed": false,
     "input": [
      "X = linspace(0, 60, 100)\n",
      "Y = function(X)"
     ],
     "language": "python",
     "metadata": {},
     "outputs": [],
     "prompt_number": 63
    },
    {
     "cell_type": "code",
     "collapsed": false,
     "input": [
      "plot(x, y)"
     ],
     "language": "python",
     "metadata": {},
     "outputs": [
      {
       "output_type": "pyout",
       "prompt_number": 62,
       "text": [
        "[<matplotlib.lines.Line2D at 0x5447410>]"
       ]
      },
      {
       "output_type": "display_data",
       "png": "[encoded data removed]"
      }
     ],
     "prompt_number": 62
    },
    {
     "cell_type": "code",
     "collapsed": false,
     "input": [
      "#1. Make a random number between 0 and 60"
     ],
     "language": "python",
     "metadata": {},
     "outputs": [],
     "prompt_number": 11
    },
    {
     "cell_type": "code",
     "collapsed": false,
     "input": [
      "walk = []\n",
      "x = random.random()*60\n",
      "walk.append(x)"
     ],
     "language": "python",
     "metadata": {},
     "outputs": [],
     "prompt_number": 55
    },
    {
     "cell_type": "code",
     "collapsed": false,
     "input": [
      "for i in range(200000):\n",
      "    x = random.random()*2-1\n",
      "    alpha = function(x + walk[-1])/function(walk[-1])\n",
      "\n",
      "    if alpha>=1.0:\n",
      "        walk.append(walk[-1]+x)\n",
      "    else:\n",
      "        beta = random.random()\n",
      "        if(beta<=alpha):\n",
      "            walk.append(walk[-1]+x)\n",
      "        else:\n",
      "            walk.append(walk[-1])"
     ],
     "language": "python",
     "metadata": {},
     "outputs": [],
     "prompt_number": 56
    },
    {
     "cell_type": "code",
     "collapsed": false,
     "input": [
      "histo = hist(walk, bins=40, normed=True)\n",
      "f = function(X)\n",
      "norm = sum(f*(x[1]-x[0]))\n",
      "plot(X,f/norm, linewidth=1, color='r')"
     ],
     "language": "python",
     "metadata": {},
     "outputs": [
      {
       "output_type": "pyout",
       "prompt_number": 69,
       "text": [
        "[<matplotlib.lines.Line2D at 0x6ca45d0>]"
       ]
      },
      {
       "output_type": "display_data",
       "png": "[encoded data removed]"
      }
     ],
     "prompt_number": 69
    },
    {
     "cell_type": "code",
     "collapsed": false,
     "input": [
      "size(walk)"
     ],
     "language": "python",
     "metadata": {},
     "outputs": [
      {
       "output_type": "pyout",
       "prompt_number": 50,
       "text": [
        "200001"
       ]
      }
     ],
     "prompt_number": 50
    },
    {
     "cell_type": "markdown",
     "metadata": {},
     "source": [
      "\n",
      "# 2D MCMC"
     ]
    },
    {
     "cell_type": "code",
     "collapsed": false,
     "input": [
      "def function(x, y):\n",
      "    f = exp((-(100*(y-x**2)**2)+(1-x)**2)/20.)\n",
      "    return f"
     ],
     "language": "python",
     "metadata": {},
     "outputs": [],
     "prompt_number": 2
    },
    {
     "cell_type": "code",
     "collapsed": false,
     "input": [
      "from mpl_toolkits.mplot3d import Axes3D"
     ],
     "language": "python",
     "metadata": {},
     "outputs": [],
     "prompt_number": 3
    },
    {
     "cell_type": "code",
     "collapsed": false,
     "input": [
      "fig = plt.figure()\n",
      "ax = fig.add_subplot(111, projection='3d')\n",
      "X = np.linspace(-20, 20, 300)\n",
      "Y = np.linspace(-20, 200, 300)\n",
      "X, Y = np.meshgrid(X,Y)\n",
      "Z = function(X, Y)\n",
      "ax.plot_surface(X, Y, log10(Z))\n",
      "show()"
     ],
     "language": "python",
     "metadata": {},
     "outputs": [
      {
       "output_type": "stream",
       "stream": "stderr",
       "text": [
        "-c:7: RuntimeWarning: divide by zero encountered in log10\n",
        "/usr/lib/pymodules/python2.7/mpl_toolkits/mplot3d/axes3d.py:1618: RuntimeWarning: invalid value encountered in subtract\n",
        "  v1[which_pt] = np.array(ps2[i1]) - np.array(ps2[i2])\n"
       ]
      },
      {
       "output_type": "stream",
       "stream": "stderr",
       "text": [
        "/usr/lib/pymodules/python2.7/mpl_toolkits/mplot3d/axes3d.py:1619: RuntimeWarning: invalid value encountered in subtract\n",
        "  v2[which_pt] = np.array(ps2[i2]) - np.array(ps2[i3])\n",
        "/usr/lib/python2.7/dist-packages/numpy/core/numeric.py:1342: RuntimeWarning: invalid value encountered in subtract\n",
        "  y = a[2]*b[0] - a[0]*b[2]\n"
       ]
      },
      {
       "output_type": "stream",
       "stream": "stderr",
       "text": [
        "/usr/lib/pymodules/python2.7/mpl_toolkits/mplot3d/axes3d.py:1673: RuntimeWarning: invalid value encountered in divide\n",
        "  for n in normals])\n"
       ]
      }
     ],
     "prompt_number": 33
    },
    {
     "cell_type": "code",
     "collapsed": false,
     "input": [
      "print amin(Y)"
     ],
     "language": "python",
     "metadata": {},
     "outputs": [
      {
       "output_type": "stream",
       "stream": "stdout",
       "text": [
        "-100.0\n"
       ]
      }
     ],
     "prompt_number": 115
    },
    {
     "cell_type": "code",
     "collapsed": false,
     "input": [
      "hist = hist2d(X, Y, weights=log10(Z), bins=(60, 60), normed=True)\n",
      "colorbar()"
     ],
     "language": "python",
     "metadata": {},
     "outputs": [
      {
       "output_type": "stream",
       "stream": "stderr",
       "text": [
        "/usr/lib/pymodules/python2.7/matplotlib/colorbar.py:808: RuntimeWarning: invalid value encountered in divide\n",
        "  z = np.take(y, i0) + (xn-np.take(b,i0))*dy/db\n"
       ]
      },
      {
       "output_type": "pyout",
       "prompt_number": 31,
       "text": [
        "<matplotlib.colorbar.Colorbar instance at 0x41c4758>"
       ]
      }
     ],
     "prompt_number": 31
    },
    {
     "cell_type": "markdown",
     "metadata": {},
     "source": [
      "# MCMC and Bayes for parabola"
     ]
    },
    {
     "cell_type": "code",
     "collapsed": false,
     "input": [
      "%pylab inline\n",
      "#load the list of points\n",
      "obs_data = loadtxt(\"movimiento.dat\")\n",
      "t_obs = obs_data[:,0]\n",
      "x_obs = obs_data[:,1]\n",
      "\n"
     ],
     "language": "python",
     "metadata": {},
     "outputs": [
      {
       "output_type": "stream",
       "stream": "stdout",
       "text": [
        "\n",
        "Welcome to pylab, a matplotlib-based Python environment [backend: module://IPython.zmq.pylab.backend_inline].\n",
        "For more information, type 'help(pylab)'.\n"
       ]
      }
     ],
     "prompt_number": 6
    },
    {
     "cell_type": "code",
     "collapsed": false,
     "input": [
      "scatter(t_obs,x_obs)"
     ],
     "language": "python",
     "metadata": {},
     "outputs": [
      {
       "output_type": "pyout",
       "prompt_number": 7,
       "text": [
        "<matplotlib.collections.PathCollection at 0x40afd10>"
       ]
      },
      {
       "output_type": "display_data",
       "png": "[encoded data removed]"
      }
     ],
     "prompt_number": 7
    },
    {
     "cell_type": "code",
     "collapsed": false,
     "input": [
      "def likelihood(y_obs, y_model):\n",
      "    chi_squared = (1.0/2.0)*sum((y_obs-y_model)**2)\n",
      "    return exp(-chi_squared)\n",
      "\n"
     ],
     "language": "python",
     "metadata": {},
     "outputs": [],
     "prompt_number": 4
    },
    {
     "cell_type": "code",
     "collapsed": false,
     "input": [
      "def my_model(t_obs, x_obs, a, b):\n",
      "    return a*t_obs + b*t_obs**2\n"
     ],
     "language": "python",
     "metadata": {},
     "outputs": [],
     "prompt_number": 5
    },
    {
     "cell_type": "code",
     "collapsed": false,
     "input": [
      "a_walk = []\n",
      "b_walk = []\n",
      "l_walk = []\n",
      "\n",
      "m_walk = append(random.random())\n",
      "b_walk = append(random.random())\n",
      "\n",
      "y_init = my_model(t_obs, m_walk[0], b_walk[0])\n",
      "l_walk = append(l_walk, likelihood(y_obs, y_init))\n",
      "print m_walk\n",
      "print b_walk\n",
      "print l_walk\n",
      "\n"
     ],
     "language": "python",
     "metadata": {},
     "outputs": []
    }
   ],
   "metadata": {}
  }
 ]
}