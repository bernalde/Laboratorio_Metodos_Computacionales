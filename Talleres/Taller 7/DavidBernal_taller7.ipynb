{
 "metadata": {
  "name": ""
 },
 "nbformat": 3,
 "nbformat_minor": 0,
 "worksheets": [
  {
   "cells": [
    {
     "cell_type": "heading",
     "level": 1,
     "metadata": {},
     "source": [
      "Taller 7"
     ]
    },
    {
     "cell_type": "code",
     "collapsed": false,
     "input": [
      "%pylab inline"
     ],
     "language": "python",
     "metadata": {},
     "outputs": [
      {
       "output_type": "stream",
       "stream": "stdout",
       "text": [
        "Populating the interactive namespace from numpy and matplotlib\n"
       ]
      }
     ],
     "prompt_number": 1
    },
    {
     "cell_type": "heading",
     "level": 2,
     "metadata": {},
     "source": [
      "Difusi\u00f3n"
     ]
    },
    {
     "cell_type": "markdown",
     "metadata": {},
     "source": [
      "Ecuaci\u00f3n a resolver\n",
      "$$\n",
      "\\frac{\\partial u}{\\partial t} = \\nu\\frac{\\partial^2 u}{\\partial x^2} \n",
      "$$\n",
      "\n",
      "Discretizando\n",
      "\n",
      "\n",
      "$$\n",
      "\\frac{\\partial u}{\\partial t} \\approx \\frac{u_{i}^{j+1} - u_{i}^{j}}{\\Delta t}\n",
      "$$\n",
      "\n",
      "$$\n",
      "\\frac{\\partial^2 u}{\\partial x^2} \\approx \\frac{u_{i+1}^j - 2 u_{i}^{j} + u_{i-1}^{j}}{(\\Delta x)^2}\n",
      "$$"
     ]
    },
    {
     "cell_type": "markdown",
     "metadata": {},
     "source": [
      "En el esquema de diferencias finitas\n",
      "$$\n",
      "\\frac{u_{i}^{j+1} - u_{i}^{j}}{\\Delta t} = \\nu \\frac{u_{i+1}^j - 2 u_{i}^{j} + u_{i-1}^{j}}{(\\Delta x)^2} \n",
      "$$\n",
      "\n",
      "$$\n",
      "u_{i}^{j+1} = \\nu\\alpha u_{i+1}^{j} + (1 - 2\\nu\\alpha)u_{i}^{j} + \\nu\\alpha u_{i-1}^{j}\n",
      "$$\n",
      "\n",
      "donde $\\alpha = \\Delta t/ (\\Delta x)^2$."
     ]
    },
    {
     "cell_type": "code",
     "collapsed": false,
     "input": [
      "n_x = 100\n",
      "n_t = 100\n",
      "\n",
      "nu = 0.3\n",
      "sigma = 0.2 #par\u00e1metro que asegura que \\alpha\\nu < 0.5\n",
      "\n",
      "x = linspace(0, 1.0, n_x)\n",
      "dx = x[1]-x[0]\n",
      "\n",
      "\n",
      "dt = sigma*dx**2/nu #dt se define utilizando sigma\n",
      "alpha = dt/dx**2\n",
      "print dt\n",
      "\n",
      "u = zeros(n_x)\n",
      "\n",
      "u[where((x<0.66) & (x>0.33))] = 1.0"
     ],
     "language": "python",
     "metadata": {},
     "outputs": [
      {
       "output_type": "stream",
       "stream": "stdout",
       "text": [
        "6.80202700405e-05\n"
       ]
      }
     ],
     "prompt_number": 25
    },
    {
     "cell_type": "code",
     "collapsed": false,
     "input": [
      "plt.plot(x,u)\n",
      "plt.title('Condicion inicial')\n",
      "plt.xlabel('x')\n",
      "plt.ylabel('u')"
     ],
     "language": "python",
     "metadata": {},
     "outputs": [
      {
       "metadata": {},
       "output_type": "pyout",
       "prompt_number": 26,
       "text": [
        "<matplotlib.text.Text at 0x3c6a410>"
       ]
      },
      {
       "metadata": {},
       "output_type": "display_data",
       "png": "[encoded data removed]",
       "text": [
        "<matplotlib.figure.Figure at 0x36ae690>"
       ]
      }
     ],
     "prompt_number": 26
    },
    {
     "cell_type": "code",
     "collapsed": false,
     "input": [
      "for n in range(n_t):  # loop over time\n",
      "    u_past = u.copy() \n",
      "    for i in range(1,n_x-1): #loop over space\n",
      "        u[i] = nu * alpha * u_past[i+1]  + (1.0 - 2.0*nu*alpha)*u_past[i] + nu*alpha*u_past[i-1]"
     ],
     "language": "python",
     "metadata": {},
     "outputs": [],
     "prompt_number": 27
    },
    {
     "cell_type": "code",
     "collapsed": false,
     "input": [
      "plt.plot(x,u)\n",
      "plt.title('Condicion despes de $\\Delta t=100$')\n",
      "plt.xlabel('x')\n",
      "plt.ylabel('u')"
     ],
     "language": "python",
     "metadata": {},
     "outputs": [
      {
       "metadata": {},
       "output_type": "pyout",
       "prompt_number": 28,
       "text": [
        "<matplotlib.text.Text at 0x44ece10>"
       ]
      },
      {
       "metadata": {},
       "output_type": "display_data",
       "png": "[encoded data removed]",
       "text": [
        "<matplotlib.figure.Figure at 0x3c6c2d0>"
       ]
      }
     ],
     "prompt_number": 28
    },
    {
     "cell_type": "code",
     "collapsed": false,
     "input": [],
     "language": "python",
     "metadata": {},
     "outputs": []
    }
   ],
   "metadata": {}
  }
 ]
}