{
 "metadata": {
  "name": ""
 },
 "nbformat": 3,
 "nbformat_minor": 0,
 "worksheets": [
  {
   "cells": [
    {
     "cell_type": "markdown",
     "metadata": {},
     "source": [
      "Setup, as usual"
     ]
    },
    {
     "cell_type": "code",
     "collapsed": false,
     "input": [
      "%matplotlib inline"
     ],
     "language": "python",
     "metadata": {},
     "outputs": [],
     "prompt_number": 11
    },
    {
     "cell_type": "code",
     "collapsed": false,
     "input": [
      "import numpy as np"
     ],
     "language": "python",
     "metadata": {},
     "outputs": [],
     "prompt_number": 12
    },
    {
     "cell_type": "code",
     "collapsed": false,
     "input": [
      "import scipy.stats as sps"
     ],
     "language": "python",
     "metadata": {},
     "outputs": [],
     "prompt_number": 13
    },
    {
     "cell_type": "code",
     "collapsed": false,
     "input": [
      "import matplotlib.pylab as plt"
     ],
     "language": "python",
     "metadata": {},
     "outputs": [],
     "prompt_number": 14
    },
    {
     "cell_type": "markdown",
     "metadata": {},
     "source": [
      "Define some x values, and a set of uncertainties which range between 0.1 and 0.3."
     ]
    },
    {
     "cell_type": "code",
     "collapsed": false,
     "input": [
      "x = np.linspace(0,3,1000)"
     ],
     "language": "python",
     "metadata": {},
     "outputs": [],
     "prompt_number": 34
    },
    {
     "cell_type": "code",
     "collapsed": false,
     "input": [
      "unc_y = sps.uniform(loc=0.1,scale=0.3).rvs(size=1000)"
     ],
     "language": "python",
     "metadata": {},
     "outputs": [],
     "prompt_number": 16
    },
    {
     "cell_type": "code",
     "collapsed": true,
     "input": [
      "unc_y"
     ],
     "language": "python",
     "metadata": {},
     "outputs": [
      {
       "metadata": {},
       "output_type": "pyout",
       "prompt_number": 17,
       "text": [
        "array([ 0.10216633,  0.27018913,  0.15767724,  0.10862438,  0.20397054,\n",
        "        0.15794319,  0.31282561,  0.23260152,  0.10627931,  0.13797688,\n",
        "        0.35922886,  0.25488782,  0.14191069,  0.34295542,  0.2901974 ,\n",
        "        0.33960413,  0.3970181 ,  0.32316568,  0.11548779,  0.10818265,\n",
        "        0.11329229,  0.34133473,  0.30629405,  0.25978934,  0.1186692 ,\n",
        "        0.35960511,  0.38003277,  0.29779231,  0.22528064,  0.33568386,\n",
        "        0.34430634,  0.14801682,  0.25696423,  0.12529844,  0.13494679,\n",
        "        0.1473631 ,  0.31049867,  0.33041936,  0.19650345,  0.185577  ,\n",
        "        0.12282243,  0.35645973,  0.26782032,  0.13302257,  0.28419825,\n",
        "        0.19109748,  0.39052839,  0.18127591,  0.10623178,  0.26546022,\n",
        "        0.11589029,  0.17601353,  0.22647002,  0.29785132,  0.17721078,\n",
        "        0.35751718,  0.31205948,  0.10711282,  0.36275372,  0.16044644,\n",
        "        0.38877817,  0.11102063,  0.27325703,  0.20242968,  0.10435264,\n",
        "        0.25106182,  0.12835407,  0.25806447,  0.31336911,  0.37713357,\n",
        "        0.38952205,  0.25249316,  0.19637402,  0.11401988,  0.39714709,\n",
        "        0.17918303,  0.18392369,  0.1516111 ,  0.13667847,  0.12959539,\n",
        "        0.31088653,  0.28270477,  0.20000458,  0.39430247,  0.39581787,\n",
        "        0.30556208,  0.13796356,  0.35154574,  0.365855  ,  0.12757876,\n",
        "        0.12054907,  0.17855238,  0.14918736,  0.22007669,  0.24044694,\n",
        "        0.16237772,  0.38862363,  0.2713936 ,  0.16554684,  0.38819659,\n",
        "        0.39176455,  0.22219396,  0.23921399,  0.32467068,  0.31575573,\n",
        "        0.14664254,  0.20153573,  0.30327224,  0.23489666,  0.19545848,\n",
        "        0.23247625,  0.39260066,  0.2962883 ,  0.11181117,  0.16363184,\n",
        "        0.19449927,  0.33099907,  0.10857431,  0.3051965 ,  0.35708196,\n",
        "        0.39380706,  0.21003524,  0.12224448,  0.35833533,  0.13879131,\n",
        "        0.37794588,  0.19966205,  0.30123757,  0.28174149,  0.34622543,\n",
        "        0.30826817,  0.35081861,  0.34923455,  0.23115029,  0.12673497,\n",
        "        0.1419739 ,  0.16104715,  0.3307849 ,  0.3111381 ,  0.27354794,\n",
        "        0.36035595,  0.22478714,  0.26914919,  0.11295718,  0.11445527,\n",
        "        0.24760119,  0.39127459,  0.15761869,  0.21767269,  0.16882438,\n",
        "        0.36967279,  0.29764255,  0.29689861,  0.10693595,  0.26059926,\n",
        "        0.19246536,  0.24473801,  0.37835071,  0.11461481,  0.16794682,\n",
        "        0.2883325 ,  0.16859477,  0.17380515,  0.29921635,  0.18826106,\n",
        "        0.30855608,  0.20609633,  0.37747386,  0.3217377 ,  0.19335866,\n",
        "        0.32690712,  0.14589037,  0.20806287,  0.10659596,  0.32278226,\n",
        "        0.34488796,  0.37803566,  0.27356921,  0.1134985 ,  0.19433613,\n",
        "        0.26615752,  0.19436959,  0.10343824,  0.16068046,  0.17278822,\n",
        "        0.35513613,  0.39719759,  0.24323729,  0.18635771,  0.24111237,\n",
        "        0.32192754,  0.14855111,  0.3593992 ,  0.36976639,  0.10459432,\n",
        "        0.18821851,  0.18523542,  0.10870044,  0.34629036,  0.26794838,\n",
        "        0.38746875,  0.14459198,  0.34111735,  0.13778403,  0.25199204,\n",
        "        0.2376846 ,  0.12702275,  0.32818263,  0.10576627,  0.25396912,\n",
        "        0.16152364,  0.11702018,  0.28661078,  0.39595912,  0.22267044,\n",
        "        0.29649901,  0.21743668,  0.18867033,  0.22057456,  0.17003509,\n",
        "        0.38415417,  0.23690885,  0.37560807,  0.25772663,  0.13436604,\n",
        "        0.38330209,  0.11673201,  0.29971122,  0.17856444,  0.22628696,\n",
        "        0.18777478,  0.1227442 ,  0.28868283,  0.10148671,  0.29356233,\n",
        "        0.14997073,  0.21714682,  0.20800176,  0.13233819,  0.21974258,\n",
        "        0.16811936,  0.2170017 ,  0.27417101,  0.12824934,  0.21408775,\n",
        "        0.20711986,  0.21003473,  0.1343599 ,  0.33317334,  0.21599612,\n",
        "        0.32833885,  0.29696145,  0.33175003,  0.32171223,  0.16123364,\n",
        "        0.14059047,  0.13568597,  0.21157371,  0.10667258,  0.31761534,\n",
        "        0.330646  ,  0.35584755,  0.33067774,  0.35437266,  0.16383071,\n",
        "        0.22650126,  0.19654719,  0.32146466,  0.24603149,  0.37625707,\n",
        "        0.32986537,  0.15448412,  0.31770562,  0.1778612 ,  0.31715566,\n",
        "        0.20164348,  0.17481247,  0.23149658,  0.26519164,  0.37461814,\n",
        "        0.10964821,  0.16361225,  0.22727194,  0.20683167,  0.32708794,\n",
        "        0.38056997,  0.1961193 ,  0.12508951,  0.36162854,  0.34885374,\n",
        "        0.30551375,  0.23597909,  0.17557257,  0.15261475,  0.17551676,\n",
        "        0.11509012,  0.22281376,  0.23057391,  0.31713701,  0.33623237,\n",
        "        0.36509189,  0.30758553,  0.38871875,  0.12976454,  0.19916754,\n",
        "        0.14695487,  0.16679594,  0.28390751,  0.10487015,  0.26943428,\n",
        "        0.21131173,  0.1443201 ,  0.24727235,  0.24530377,  0.11526088,\n",
        "        0.21323279,  0.30946065,  0.20145398,  0.27139897,  0.278367  ,\n",
        "        0.399504  ,  0.2275028 ,  0.25715113,  0.15188205,  0.18120528,\n",
        "        0.24474742,  0.12600401,  0.18865647,  0.23380324,  0.37780435,\n",
        "        0.25672111,  0.24377577,  0.10701229,  0.25698709,  0.39716363,\n",
        "        0.30790086,  0.24249628,  0.13827744,  0.15421689,  0.17008871,\n",
        "        0.27741007,  0.16968371,  0.26264967,  0.19029066,  0.37798698,\n",
        "        0.30087851,  0.33283946,  0.12579653,  0.17711353,  0.19698711,\n",
        "        0.13096917,  0.18190778,  0.17976255,  0.29369162,  0.14600906,\n",
        "        0.35445285,  0.23363128,  0.16057466,  0.3468681 ,  0.10245169,\n",
        "        0.24450778,  0.17798933,  0.1130744 ,  0.38093145,  0.1263928 ,\n",
        "        0.21624316,  0.23603977,  0.32895615,  0.34031726,  0.36475026,\n",
        "        0.23819533,  0.21199272,  0.35956773,  0.13543314,  0.24986284,\n",
        "        0.31342983,  0.25032047,  0.39773985,  0.22867729,  0.28863817,\n",
        "        0.29972447,  0.38743254,  0.23682356,  0.28999799,  0.27397988,\n",
        "        0.19813397,  0.10230899,  0.31991158,  0.32595785,  0.2974383 ,\n",
        "        0.38830327,  0.21889493,  0.13467741,  0.15219898,  0.13492315,\n",
        "        0.30838694,  0.26526918,  0.21402426,  0.10675591,  0.29318912,\n",
        "        0.30091388,  0.23370861,  0.15820059,  0.39582245,  0.2592133 ,\n",
        "        0.36859404,  0.21442448,  0.15636554,  0.33908164,  0.22398963,\n",
        "        0.3822394 ,  0.29847309,  0.38057105,  0.3686075 ,  0.10571254,\n",
        "        0.3010516 ,  0.19744859,  0.38269655,  0.21891424,  0.12464287,\n",
        "        0.23879442,  0.27448557,  0.24659881,  0.17705558,  0.1518335 ,\n",
        "        0.34054801,  0.33786196,  0.38114314,  0.12449498,  0.14820551,\n",
        "        0.3626601 ,  0.32410391,  0.37516477,  0.16201114,  0.22453493,\n",
        "        0.15924012,  0.22619   ,  0.23428093,  0.16674686,  0.19982069,\n",
        "        0.21061346,  0.24655907,  0.1531913 ,  0.28970768,  0.31703387,\n",
        "        0.28849491,  0.22646674,  0.17039888,  0.28693393,  0.17510345,\n",
        "        0.37939939,  0.24516453,  0.16428944,  0.25812735,  0.23731367,\n",
        "        0.20030906,  0.20721686,  0.30151963,  0.25331299,  0.28671249,\n",
        "        0.38861415,  0.1035103 ,  0.2097175 ,  0.13309142,  0.2133482 ,\n",
        "        0.35702505,  0.2598072 ,  0.27792883,  0.38619256,  0.34993462,\n",
        "        0.29281688,  0.33873627,  0.2297547 ,  0.22678195,  0.36676181,\n",
        "        0.39557604,  0.36092058,  0.39164456,  0.32491895,  0.31383022,\n",
        "        0.30303544,  0.34374   ,  0.31213074,  0.14690526,  0.36436743,\n",
        "        0.22428017,  0.2032013 ,  0.34779925,  0.22627841,  0.23223619,\n",
        "        0.15023201,  0.33963992,  0.25906486,  0.34580742,  0.39608577,\n",
        "        0.14794137,  0.25913681,  0.17861085,  0.2777828 ,  0.39336454,\n",
        "        0.35528396,  0.11977524,  0.32960942,  0.26739443,  0.30230507,\n",
        "        0.16498064,  0.34582172,  0.14793272,  0.35547603,  0.14525994,\n",
        "        0.39395659,  0.2351164 ,  0.23221217,  0.17376561,  0.15996013,\n",
        "        0.21084839,  0.3091015 ,  0.33245587,  0.11718564,  0.37974225,\n",
        "        0.18049999,  0.35060156,  0.32409177,  0.16527033,  0.28077022,\n",
        "        0.3018639 ,  0.12084235,  0.30007243,  0.30189788,  0.38058679,\n",
        "        0.10338151,  0.22854673,  0.21469799,  0.16835349,  0.18667345,\n",
        "        0.36147984,  0.21965372,  0.3382954 ,  0.14348932,  0.19863664,\n",
        "        0.36693865,  0.26375978,  0.29760092,  0.11637781,  0.1608433 ,\n",
        "        0.34564013,  0.32417463,  0.26999063,  0.35804686,  0.39635298,\n",
        "        0.39444167,  0.36926296,  0.13842855,  0.37787463,  0.17788669,\n",
        "        0.10302373,  0.24393119,  0.27850217,  0.26871045,  0.22576524,\n",
        "        0.29379901,  0.22085757,  0.3404364 ,  0.33357274,  0.20494995,\n",
        "        0.33181   ,  0.18359492,  0.18748317,  0.17804734,  0.30384045,\n",
        "        0.24820528,  0.38345672,  0.23721871,  0.32453356,  0.33078216,\n",
        "        0.22446706,  0.24407489,  0.14262553,  0.11599013,  0.21618143,\n",
        "        0.20485365,  0.34429157,  0.27584406,  0.13558521,  0.14203792,\n",
        "        0.38565862,  0.30867264,  0.38419795,  0.15247763,  0.19952685,\n",
        "        0.35121241,  0.15297364,  0.19373766,  0.20329829,  0.22044481,\n",
        "        0.16686817,  0.25027309,  0.18546786,  0.30649268,  0.25169693,\n",
        "        0.28736937,  0.37895169,  0.24860315,  0.16637796,  0.33613481,\n",
        "        0.15494636,  0.31897446,  0.31188006,  0.19882412,  0.39185577,\n",
        "        0.18003989,  0.36566127,  0.16871583,  0.10350172,  0.13609504,\n",
        "        0.20715992,  0.27097587,  0.3145615 ,  0.34095472,  0.30212541,\n",
        "        0.21470399,  0.32129115,  0.36258179,  0.16518316,  0.2861407 ,\n",
        "        0.37458068,  0.23368475,  0.25604307,  0.35647373,  0.23900799,\n",
        "        0.12627724,  0.22674048,  0.19299677,  0.1358254 ,  0.39082263,\n",
        "        0.1791159 ,  0.38442271,  0.10207492,  0.39715196,  0.10563008,\n",
        "        0.23668715,  0.15898158,  0.11681998,  0.33685718,  0.198436  ,\n",
        "        0.2385814 ,  0.28339774,  0.39841903,  0.26840484,  0.15029317,\n",
        "        0.2079926 ,  0.10259596,  0.130469  ,  0.20096308,  0.31124508,\n",
        "        0.28744003,  0.33840283,  0.2339559 ,  0.36191636,  0.2711472 ,\n",
        "        0.28130672,  0.37762148,  0.37178646,  0.34857662,  0.38235039,\n",
        "        0.29002587,  0.35041043,  0.19460427,  0.2907768 ,  0.15064311,\n",
        "        0.17517755,  0.2160362 ,  0.3887027 ,  0.30514667,  0.16980671,\n",
        "        0.2071928 ,  0.2606598 ,  0.31103409,  0.3939855 ,  0.38463655,\n",
        "        0.23598314,  0.3652801 ,  0.34497568,  0.29124982,  0.21367899,\n",
        "        0.26884074,  0.1506642 ,  0.26563296,  0.1108866 ,  0.3587183 ,\n",
        "        0.30578383,  0.27883748,  0.10714645,  0.36019695,  0.10999835,\n",
        "        0.12694862,  0.32229108,  0.17909211,  0.35084355,  0.32260322,\n",
        "        0.28985127,  0.23550736,  0.15341639,  0.31403561,  0.10679103,\n",
        "        0.16430414,  0.33742098,  0.2572022 ,  0.20092487,  0.26544923,\n",
        "        0.24017329,  0.11844626,  0.33527564,  0.35515421,  0.36321436,\n",
        "        0.271829  ,  0.19889525,  0.18750882,  0.16278652,  0.33871035,\n",
        "        0.31492848,  0.22948874,  0.32900863,  0.16014988,  0.19167827,\n",
        "        0.36780778,  0.12601528,  0.26941834,  0.39428293,  0.22329245,\n",
        "        0.31771602,  0.3390305 ,  0.36615209,  0.22485527,  0.3978946 ,\n",
        "        0.28162887,  0.23164543,  0.35669204,  0.39161483,  0.29550148,\n",
        "        0.35290135,  0.2624819 ,  0.2471617 ,  0.19414942,  0.32400739,\n",
        "        0.30911663,  0.1621781 ,  0.16840543,  0.28765315,  0.27579714,\n",
        "        0.25285476,  0.32599712,  0.29130607,  0.24871366,  0.33465746,\n",
        "        0.20421532,  0.37434971,  0.1657448 ,  0.3306844 ,  0.15041635,\n",
        "        0.2464842 ,  0.29373483,  0.35307196,  0.36033971,  0.25169828,\n",
        "        0.18779335,  0.30835264,  0.23948144,  0.16786354,  0.30784149,\n",
        "        0.28473428,  0.35594696,  0.3335274 ,  0.32944167,  0.15261086,\n",
        "        0.19101073,  0.23750254,  0.16905325,  0.30477939,  0.27724524,\n",
        "        0.14227323,  0.1398323 ,  0.33684891,  0.20817088,  0.28431742,\n",
        "        0.28487678,  0.10336459,  0.20661938,  0.18734408,  0.23308794,\n",
        "        0.35351373,  0.3366583 ,  0.16646037,  0.38941225,  0.13599997,\n",
        "        0.19998264,  0.15105074,  0.12358299,  0.36201896,  0.23448871,\n",
        "        0.3624609 ,  0.35370796,  0.35350612,  0.33061298,  0.2156524 ,\n",
        "        0.35430353,  0.35627314,  0.14520813,  0.35333252,  0.16855564,\n",
        "        0.24224702,  0.31526557,  0.28313767,  0.12597074,  0.39138112,\n",
        "        0.17091154,  0.22339999,  0.20813049,  0.38204337,  0.21959071,\n",
        "        0.10496859,  0.25060809,  0.14597185,  0.25978525,  0.10366627,\n",
        "        0.27352521,  0.31218123,  0.36450579,  0.14959596,  0.35694   ,\n",
        "        0.26834759,  0.24449994,  0.10642313,  0.22570474,  0.26697354,\n",
        "        0.23943506,  0.36383802,  0.17007361,  0.33414029,  0.32160824,\n",
        "        0.23402833,  0.2609669 ,  0.13477352,  0.21305318,  0.25783002,\n",
        "        0.16263967,  0.32499355,  0.33308919,  0.33458817,  0.19871411,\n",
        "        0.24175848,  0.15822576,  0.14131776,  0.32776462,  0.12098002,\n",
        "        0.28577323,  0.1329814 ,  0.27191495,  0.39296191,  0.15261976,\n",
        "        0.25868986,  0.12738732,  0.27439573,  0.39866968,  0.14409122,\n",
        "        0.26710253,  0.37013807,  0.18372909,  0.25816965,  0.27417157,\n",
        "        0.36431489,  0.33173384,  0.14168343,  0.18145311,  0.34521754,\n",
        "        0.2609733 ,  0.27071476,  0.22855587,  0.38091694,  0.17776344,\n",
        "        0.19991766,  0.31882936,  0.26916117,  0.35649475,  0.34834285,\n",
        "        0.17698963,  0.29800569,  0.36950623,  0.24340534,  0.11068308,\n",
        "        0.28365613,  0.27928989,  0.27192234,  0.38258579,  0.14366749,\n",
        "        0.25944218,  0.24895615,  0.27102612,  0.30372553,  0.29857935,\n",
        "        0.1460041 ,  0.21472302,  0.28737954,  0.30237195,  0.28178164,\n",
        "        0.27767067,  0.10709559,  0.25868996,  0.30574929,  0.15428077,\n",
        "        0.21879852,  0.36929945,  0.22203102,  0.30782217,  0.20829953,\n",
        "        0.36932411,  0.2599584 ,  0.3384736 ,  0.29240485,  0.32741621,\n",
        "        0.23204238,  0.20300657,  0.2177195 ,  0.10102198,  0.16333067,\n",
        "        0.32427046,  0.12101149,  0.10865063,  0.20088362,  0.3433798 ,\n",
        "        0.30860291,  0.18504418,  0.18363774,  0.11827423,  0.16442836,\n",
        "        0.22317332,  0.21984757,  0.34347464,  0.15781435,  0.25485548,\n",
        "        0.18802379,  0.28066855,  0.21200021,  0.11545208,  0.22743913,\n",
        "        0.34623492,  0.28692769,  0.24262119,  0.21003974,  0.2788029 ,\n",
        "        0.27118531,  0.36454918,  0.33035862,  0.35100626,  0.3362381 ,\n",
        "        0.24674463,  0.35499656,  0.37873248,  0.27691058,  0.25396415,\n",
        "        0.24926708,  0.30544084,  0.1523637 ,  0.37925957,  0.33147782,\n",
        "        0.20835153,  0.24082885,  0.2605738 ,  0.32250431,  0.35284778,\n",
        "        0.36829249,  0.19054867,  0.30217355,  0.16591617,  0.30385605,\n",
        "        0.26165679,  0.12220822,  0.1407073 ,  0.20928168,  0.31925692,\n",
        "        0.33395132,  0.2722996 ,  0.32849942,  0.33041904,  0.24909779,\n",
        "        0.21829847,  0.19310255,  0.35259712,  0.18396   ,  0.23453159,\n",
        "        0.22379394,  0.19364272,  0.35983352,  0.3404507 ,  0.21999996,\n",
        "        0.35135984,  0.21628367,  0.39382172,  0.39325562,  0.38964229])"
       ]
      }
     ],
     "prompt_number": 17
    },
    {
     "cell_type": "markdown",
     "metadata": {},
     "source": [
      "Now, define our y offsets as being drawn from the probability distribution characterized by the individual uncertainties "
     ]
    },
    {
     "cell_type": "code",
     "collapsed": false,
     "input": [
      "delta_y = sps.norm(loc=0,scale=unc_y).rvs(size=1000)"
     ],
     "language": "python",
     "metadata": {},
     "outputs": [],
     "prompt_number": 18
    },
    {
     "cell_type": "code",
     "collapsed": false,
     "input": [
      "delta_y"
     ],
     "language": "python",
     "metadata": {},
     "outputs": []
    },
    {
     "cell_type": "markdown",
     "metadata": {},
     "source": [
      "As we expect, delta y has a larger spread where unc_y is also larger"
     ]
    },
    {
     "cell_type": "code",
     "collapsed": false,
     "input": [
      "plt.plot(unc_y,delta_y)"
     ],
     "language": "python",
     "metadata": {},
     "outputs": [
      {
       "metadata": {},
       "output_type": "pyout",
       "prompt_number": 19,
       "text": [
        "[<matplotlib.lines.Line2D at 0x10703af10>]"
       ]
      },
      {
       "metadata": {},
       "output_type": "display_data",
       "png": "[encoded data removed]",
       "text": [
        "<matplotlib.figure.Figure at 0x10731e550>"
       ]
      }
     ],
     "prompt_number": 19
    },
    {
     "cell_type": "markdown",
     "metadata": {},
     "source": [
      "Now our observed y-values are the \"model\" values plus the offset"
     ]
    },
    {
     "cell_type": "code",
     "collapsed": false,
     "input": [
      "y_obs = x+delta_y"
     ],
     "language": "python",
     "metadata": {},
     "outputs": [],
     "prompt_number": 20
    },
    {
     "cell_type": "code",
     "collapsed": false,
     "input": [
      "plt.plot(x,y_obs)"
     ],
     "language": "python",
     "metadata": {},
     "outputs": [
      {
       "metadata": {},
       "output_type": "pyout",
       "prompt_number": 21,
       "text": [
        "[<matplotlib.lines.Line2D at 0x10706ac90>]"
       ]
      },
      {
       "metadata": {},
       "output_type": "display_data",
       "png": "[encoded data removed]",
       "text": [
        "<matplotlib.figure.Figure at 0x107049ad0>"
       ]
      }
     ],
     "prompt_number": 21
    },
    {
     "cell_type": "markdown",
     "metadata": {},
     "source": [
      "Define weights as 1/uncertainty^2"
     ]
    },
    {
     "cell_type": "code",
     "collapsed": false,
     "input": [
      "weight = 1/unc_y**2"
     ],
     "language": "python",
     "metadata": {},
     "outputs": [],
     "prompt_number": 22
    },
    {
     "cell_type": "markdown",
     "metadata": {},
     "source": [
      "Do a weighted linear fit"
     ]
    },
    {
     "cell_type": "code",
     "collapsed": false,
     "input": [
      "np.polyfit(x,y_obs,1,w=weight)"
     ],
     "language": "python",
     "metadata": {},
     "outputs": [
      {
       "metadata": {},
       "output_type": "pyout",
       "prompt_number": 96,
       "text": [
        "array([ 0.98652246,  0.02398974])"
       ]
      }
     ],
     "prompt_number": 96
    },
    {
     "cell_type": "code",
     "collapsed": false,
     "input": [
      "def yfit(x):\n",
      "    return(-0.03202+1.01978*x)"
     ],
     "language": "python",
     "metadata": {},
     "outputs": [],
     "prompt_number": 24
    },
    {
     "cell_type": "markdown",
     "metadata": {},
     "source": [
      "Compute the chi^2 value for the fit"
     ]
    },
    {
     "cell_type": "code",
     "collapsed": false,
     "input": [
      "def compute_chi2(x,y_obs,y_unc,f):\n",
      "    chi = (y_obs-f(x))/y_unc\n",
      "    chi2 = chi**2\n",
      "    return(chi2.sum())\n"
     ],
     "language": "python",
     "metadata": {},
     "outputs": [],
     "prompt_number": 25
    },
    {
     "cell_type": "code",
     "collapsed": false,
     "input": [
      "compute_chi2(x,y_obs,unc_y,yfit)"
     ],
     "language": "python",
     "metadata": {},
     "outputs": [
      {
       "metadata": {},
       "output_type": "pyout",
       "prompt_number": 97,
       "text": [
        "1042.7009691145925"
       ]
      }
     ],
     "prompt_number": 97
    },
    {
     "cell_type": "markdown",
     "metadata": {},
     "source": [
      "Now compute the p-value: \"sf\" = \"survival function\" = 1-cumulative distribution function of chi2, for given number of degrees of freedom"
     ]
    },
    {
     "cell_type": "code",
     "collapsed": false,
     "input": [
      "pval = sps.chi2.sf(978.3111,998)\n",
      "print pval"
     ],
     "language": "python",
     "metadata": {},
     "outputs": [
      {
       "output_type": "stream",
       "stream": "stdout",
       "text": [
        "0.665922872474\n"
       ]
      }
     ],
     "prompt_number": 27
    },
    {
     "cell_type": "markdown",
     "metadata": {},
     "source": [
      "Let's look at the probability distribution function of chi^2 in general:"
     ]
    },
    {
     "cell_type": "code",
     "collapsed": false,
     "input": [
      "generic_x = np.arange(0,200,1)\n",
      "pdf_chi=sps.chi2.pdf(generic_x,100)\n",
      "plt.plot(generic_x,pdf_chi)"
     ],
     "language": "python",
     "metadata": {},
     "outputs": [
      {
       "metadata": {},
       "output_type": "pyout",
       "prompt_number": 39,
       "text": [
        "[<matplotlib.lines.Line2D at 0x107d968d0>]"
       ]
      },
      {
       "metadata": {},
       "output_type": "display_data",
       "png": "[encoded data removed]",
       "text": [
        "<matplotlib.figure.Figure at 0x1073f1ad0>"
       ]
      }
     ],
     "prompt_number": 39
    },
    {
     "cell_type": "code",
     "collapsed": false,
     "input": [
      "def badfit(x):\n",
      "    return(7-0.2*x)\n"
     ],
     "language": "python",
     "metadata": {},
     "outputs": [],
     "prompt_number": 33
    },
    {
     "cell_type": "code",
     "collapsed": false,
     "input": [
      "compute_chi2(x,y_obs,unc_y,badfit)"
     ],
     "language": "python",
     "metadata": {},
     "outputs": []
    },
    {
     "cell_type": "code",
     "collapsed": false,
     "input": [
      "sps.chi2.sf(697320.3,998)"
     ],
     "language": "python",
     "metadata": {},
     "outputs": []
    },
    {
     "cell_type": "markdown",
     "metadata": {},
     "source": [
      "Now set up a grid of slopes and intercepts"
     ]
    },
    {
     "cell_type": "code",
     "collapsed": false,
     "input": [
      "slope_vals = np.linspace(0.8,1.2,100)"
     ],
     "language": "python",
     "metadata": {},
     "outputs": [],
     "prompt_number": 120
    },
    {
     "cell_type": "code",
     "collapsed": false,
     "input": [
      "intc_vals = np.linspace(-0.2,0.2,100)"
     ],
     "language": "python",
     "metadata": {},
     "outputs": [],
     "prompt_number": 42
    },
    {
     "cell_type": "markdown",
     "metadata": {},
     "source": [
      "and compute the chi^2 value at each point on the grid"
     ]
    },
    {
     "cell_type": "code",
     "collapsed": false,
     "input": [
      "def compute_chi2_linfit(x,y_obs,y_unc,slope,intc):\n",
      "    chi = (y_obs-(intc+slope*x))/y_unc\n",
      "    chi2 = chi**2\n",
      "    return(chi2.sum())"
     ],
     "language": "python",
     "metadata": {},
     "outputs": [],
     "prompt_number": 43
    },
    {
     "cell_type": "code",
     "collapsed": false,
     "input": [
      "chi2_grid = np.zeros((len(slope_vals),len(intc_vals)))"
     ],
     "language": "python",
     "metadata": {},
     "outputs": [],
     "prompt_number": 44
    },
    {
     "cell_type": "code",
     "collapsed": false,
     "input": [
      "for i,slope in enumerate(slope_vals):\n",
      "    for j,intc in enumerate(intc_vals):\n",
      "        chi2_grid[i,j]=compute_chi2_linfit(x,y_obs,unc_y,slope_vals[i],intc_vals[j])"
     ],
     "language": "python",
     "metadata": {},
     "outputs": [],
     "prompt_number": 117
    },
    {
     "cell_type": "markdown",
     "metadata": {},
     "source": [
      "compute the p-value associated with each chi^2 value on the grid"
     ]
    },
    {
     "cell_type": "code",
     "collapsed": false,
     "input": [
      "chi2_pval = sps.chi2.sf(chi2_grid,9998)"
     ],
     "language": "python",
     "metadata": {},
     "outputs": [
      {
       "metadata": {},
       "output_type": "pyout",
       "prompt_number": 119,
       "text": [
        "0.66592287247437953"
       ]
      }
     ],
     "prompt_number": 119
    },
    {
     "cell_type": "markdown",
     "metadata": {},
     "source": [
      "and make a plot of the reduced chi^2 as a function of grid position"
     ]
    },
    {
     "cell_type": "code",
     "collapsed": false,
     "input": [
      "delta_chi2 = chi2_grid - chi2_grid.min()\n",
      "red_chi2_grid = chi2_grid/9998"
     ],
     "language": "python",
     "metadata": {},
     "outputs": [],
     "prompt_number": 47
    },
    {
     "cell_type": "code",
     "collapsed": false,
     "input": [
      "plt.contour(slope_vals,intc_vals,delta_chi2,inline=True,levels=(1,10,20,50),fontsize=12)"
     ],
     "language": "python",
     "metadata": {},
     "outputs": [
      {
       "metadata": {},
       "output_type": "pyout",
       "prompt_number": 48,
       "text": [
        "<matplotlib.contour.QuadContourSet instance at 0x107d6ad40>"
       ]
      },
      {
       "metadata": {},
       "output_type": "display_data",
       "png": "[encoded data removed]",
       "text": [
        "<matplotlib.figure.Figure at 0x107dca550>"
       ]
      }
     ],
     "prompt_number": 48
    },
    {
     "cell_type": "code",
     "collapsed": false,
     "input": [
      "plt.contour(slope_vals[40:60],intc_vals[40:60],delta_chi2[40:60,40:60],inline=True,levels=(1,2.71,6.63),xlim=(0.9,1.05))"
     ],
     "language": "python",
     "metadata": {},
     "outputs": [
      {
       "metadata": {},
       "output_type": "pyout",
       "prompt_number": 60,
       "text": [
        "<matplotlib.contour.QuadContourSet instance at 0x107e0d128>"
       ]
      },
      {
       "metadata": {},
       "output_type": "display_data",
       "png": "[encoded data removed]",
       "text": [
        "<matplotlib.figure.Figure at 0x10849d510>"
       ]
      }
     ],
     "prompt_number": 60
    },
    {
     "cell_type": "markdown",
     "metadata": {},
     "source": [
      "Now let's see if we can collapse the plot along one dimension (NB: not 100% sure this is correct, depends on remembering which axis is which)."
     ]
    },
    {
     "cell_type": "code",
     "collapsed": false,
     "input": [
      "chi2_slope=chi2_grid.sum(axis=0)"
     ],
     "language": "python",
     "metadata": {},
     "outputs": [],
     "prompt_number": 61
    },
    {
     "cell_type": "code",
     "collapsed": false,
     "input": [
      "chi2_intc=chi2_grid.sum(axis=1)"
     ],
     "language": "python",
     "metadata": {},
     "outputs": [],
     "prompt_number": 62
    },
    {
     "cell_type": "code",
     "collapsed": false,
     "input": [
      "plt.plot(slope_vals[45:55],chi2_slope[45:55]/9998)"
     ],
     "language": "python",
     "metadata": {},
     "outputs": [
      {
       "metadata": {},
       "output_type": "pyout",
       "prompt_number": 112,
       "text": [
        "[<matplotlib.lines.Line2D at 0x109c0a6d0>]"
       ]
      },
      {
       "metadata": {},
       "output_type": "display_data",
       "png": "[encoded data removed]",
       "text": [
        "<matplotlib.figure.Figure at 0x109a7ff90>"
       ]
      }
     ],
     "prompt_number": 112
    },
    {
     "cell_type": "code",
     "collapsed": false,
     "input": [
      "plt.plot(intc_vals[45:55],chi2_intc[45:55]/9998)"
     ],
     "language": "python",
     "metadata": {},
     "outputs": [
      {
       "metadata": {},
       "output_type": "pyout",
       "prompt_number": 113,
       "text": [
        "[<matplotlib.lines.Line2D at 0x109c36bd0>]"
       ]
      },
      {
       "metadata": {},
       "output_type": "display_data",
       "png": "[encoded data removed]",
       "text": [
        "<matplotlib.figure.Figure at 0x109c14350>"
       ]
      }
     ],
     "prompt_number": 113
    },
    {
     "cell_type": "markdown",
     "metadata": {},
     "source": [
      "Where is the chi2 a minimum as a function of slope and intercept? Notice that it doesn't seem to be at the \"best fit\" location."
     ]
    },
    {
     "cell_type": "code",
     "collapsed": false,
     "input": [
      "np.argmin(chi2_slope)"
     ],
     "language": "python",
     "metadata": {},
     "outputs": [
      {
       "metadata": {},
       "output_type": "pyout",
       "prompt_number": 72,
       "text": [
        "49"
       ]
      }
     ],
     "prompt_number": 72
    },
    {
     "cell_type": "code",
     "collapsed": false,
     "input": [
      "slope_vals[49]"
     ],
     "language": "python",
     "metadata": {},
     "outputs": [
      {
       "metadata": {},
       "output_type": "pyout",
       "prompt_number": 99,
       "text": [
        "0.99797979797979797"
       ]
      }
     ],
     "prompt_number": 99
    },
    {
     "cell_type": "code",
     "collapsed": false,
     "input": [
      "np.argmin(chi2_intc)"
     ],
     "language": "python",
     "metadata": {},
     "outputs": [
      {
       "metadata": {},
       "output_type": "pyout",
       "prompt_number": 74,
       "text": [
        "48"
       ]
      }
     ],
     "prompt_number": 74
    },
    {
     "cell_type": "code",
     "collapsed": false,
     "input": [
      "intc_vals[48]"
     ],
     "language": "python",
     "metadata": {},
     "outputs": [
      {
       "metadata": {},
       "output_type": "pyout",
       "prompt_number": 75,
       "text": [
        "-0.0060606060606060719"
       ]
      }
     ],
     "prompt_number": 75
    },
    {
     "cell_type": "markdown",
     "metadata": {},
     "source": [
      "Now where is the minimum over the entire grid? (There is probably a way to get the individual indices)."
     ]
    },
    {
     "cell_type": "code",
     "collapsed": false,
     "input": [
      "chi2_grid.argmin()"
     ],
     "language": "python",
     "metadata": {},
     "outputs": [
      {
       "metadata": {},
       "output_type": "pyout",
       "prompt_number": 100,
       "text": [
        "4556"
       ]
      }
     ],
     "prompt_number": 100
    },
    {
     "cell_type": "markdown",
     "metadata": {},
     "source": [
      "We can figure out the slope and intercept at the combined minimum by making a grid of slopes and intercepts and then finding the ones that correspond to the minimum value. These don't seem to be the same as the ones above."
     ]
    },
    {
     "cell_type": "code",
     "collapsed": false,
     "input": [
      "slope_grid, int_grid = np.meshgrid(slope_vals,intc_vals)"
     ],
     "language": "python",
     "metadata": {},
     "outputs": [],
     "prompt_number": 82
    },
    {
     "cell_type": "code",
     "collapsed": false,
     "input": [
      "slope_grid.flatten()[4556]"
     ],
     "language": "python",
     "metadata": {},
     "outputs": [
      {
       "metadata": {},
       "output_type": "pyout",
       "prompt_number": 89,
       "text": [
        "1.0262626262626262"
       ]
      }
     ],
     "prompt_number": 89
    },
    {
     "cell_type": "code",
     "collapsed": false,
     "input": [
      "int_grid.flatten()[4556]"
     ],
     "language": "python",
     "metadata": {},
     "outputs": [
      {
       "metadata": {},
       "output_type": "pyout",
       "prompt_number": 91,
       "text": [
        "-0.018181818181818188"
       ]
      }
     ],
     "prompt_number": 91
    }
   ],
   "metadata": {}
  }
 ]
}